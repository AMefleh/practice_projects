{
  "nbformat": 4,
  "nbformat_minor": 0,
  "metadata": {
    "colab": {
      "provenance": [],
      "toc_visible": true,
      "include_colab_link": true
    },
    "kernelspec": {
      "name": "python3",
      "display_name": "Python 3"
    },
    "language_info": {
      "name": "python"
    }
  },
  "cells": [
    {
      "cell_type": "markdown",
      "metadata": {
        "id": "view-in-github",
        "colab_type": "text"
      },
      "source": [
        "<a href=\"https://colab.research.google.com/github/AMefleh/practice_projects/blob/main/HW5_PySpark_(Abdallah_Al_Mefleh).ipynb\" target=\"_parent\"><img src=\"https://colab.research.google.com/assets/colab-badge.svg\" alt=\"Open In Colab\"/></a>"
      ]
    },
    {
      "cell_type": "markdown",
      "source": [
        "Your Name: Abdallah Al-Mefleh\n",
        "\n",
        "\n",
        "**How to start?**\n",
        "1. I only gave you the view permission. Thus you cannot modify this colab file directly.\n",
        "2. Instead, you should make a copy of your own. Click the menu \"File\", and then click \"Save a Copy in Drive\"\n",
        "3. By default, your saved copy is located in your google drive folder \"My Drive/Colab Notebooks\". You can go to the URL \"https://drive.google.com/\" to access your google drive folder.  \n",
        "\n",
        "**Submission Instruction**:\n",
        "1. Make sure that this page contains the output of your program. If you are not sure, click the menu \"Runtime\", and then click \"Run all\".\n",
        "2. Print the page to a pdf file. Click the menu \"File\", and then \"Print\".\n",
        "3. Submit the pdf file to Brightspace before the deadline."
      ],
      "metadata": {
        "id": "6VnTOPhfeROa"
      }
    },
    {
      "cell_type": "markdown",
      "source": [
        "# Market Basket Analysis"
      ],
      "metadata": {
        "id": "wZdHRLNxGC68"
      }
    },
    {
      "cell_type": "markdown",
      "source": [
        "In this homework, we will use the [Instacart Market Basket dataset](https://www.kaggle.com/competitions/instacart-market-basket-analysis/data).\n",
        "\n",
        "The dataset contains 3 Million Instacart Orders."
      ],
      "metadata": {
        "id": "4oAHbiqQlBUg"
      }
    },
    {
      "cell_type": "markdown",
      "source": [
        "## Prepare running environment"
      ],
      "metadata": {
        "id": "sivXAYFAqneW"
      }
    },
    {
      "cell_type": "code",
      "execution_count": 1,
      "metadata": {
        "colab": {
          "base_uri": "https://localhost:8080/"
        },
        "id": "1758Pu2tYmQH",
        "outputId": "42092549-11cc-466b-b003-141b84773d72"
      },
      "outputs": [
        {
          "output_type": "stream",
          "name": "stdout",
          "text": [
            "\u001b[2K     \u001b[90m━━━━━━━━━━━━━━━━━━━━━━━━━━━━━━━━━━━━━━━━\u001b[0m \u001b[32m317.0/317.0 MB\u001b[0m \u001b[31m2.1 MB/s\u001b[0m eta \u001b[36m0:00:00\u001b[0m\n",
            "\u001b[?25h  Preparing metadata (setup.py) ... \u001b[?25l\u001b[?25hdone\n",
            "  Building wheel for pyspark (setup.py) ... \u001b[?25l\u001b[?25hdone\n",
            "\n",
            "WARNING: apt does not have a stable CLI interface. Use with caution in scripts.\n",
            "\n"
          ]
        }
      ],
      "source": [
        "!pip install --upgrade --quiet pyspark\n",
        "!pip install --upgrade --quiet PyDrive\n",
        "!apt install openjdk-8-jdk-headless -qqq > /dev/null\n",
        "\n",
        "import os\n",
        "os.environ[\"JAVA_HOME\"] = \"/usr/lib/jvm/java-8-openjdk-amd64\""
      ]
    },
    {
      "cell_type": "code",
      "source": [
        "from pydrive.auth import GoogleAuth\n",
        "from pydrive.drive import GoogleDrive\n",
        "from google.colab import auth\n",
        "from oauth2client.client import GoogleCredentials\n",
        "\n",
        "# Authenticate and create the PyDrive client\n",
        "auth.authenticate_user()\n",
        "gauth = GoogleAuth()\n",
        "gauth.credentials = GoogleCredentials.get_application_default()\n",
        "drive = GoogleDrive(gauth)"
      ],
      "metadata": {
        "id": "7lY-drlNkXrs"
      },
      "execution_count": 6,
      "outputs": []
    },
    {
      "cell_type": "markdown",
      "source": [
        "## Load the datasets"
      ],
      "metadata": {
        "id": "HcveTWGYqseI"
      }
    },
    {
      "cell_type": "markdown",
      "source": [
        "Download the data directly from Google drive."
      ],
      "metadata": {
        "id": "0ZLorsxDlxbe"
      }
    },
    {
      "cell_type": "code",
      "source": [
        "id='1W3U7CTWHJydKf6FsnAHP6o5Tz4OwQ7LJ'\n",
        "downloaded = drive.CreateFile({'id': id})\n",
        "downloaded.GetContentFile('products.csv')\n",
        "\n",
        "id='17RPt-kC9uZGNPgJ4DpAnH40XL6hHtp0L'\n",
        "downloaded = drive.CreateFile({'id': id})\n",
        "downloaded.GetContentFile('order_products__train.csv')"
      ],
      "metadata": {
        "id": "iSpgvpAqkaPX"
      },
      "execution_count": 7,
      "outputs": []
    },
    {
      "cell_type": "code",
      "source": [
        "import pandas as pd\n",
        "import numpy as np\n",
        "import matplotlib.pyplot as plt\n",
        "%matplotlib inline\n",
        "\n",
        "import pyspark\n",
        "from pyspark.sql import *\n",
        "from pyspark.sql.functions import *\n",
        "from pyspark import SparkContext, SparkConf"
      ],
      "metadata": {
        "id": "Sh5QJefwY0pV"
      },
      "execution_count": 8,
      "outputs": []
    },
    {
      "cell_type": "code",
      "source": [
        "spark = SparkSession\\\n",
        "  .builder\\\n",
        "  .appName(\"Instacart \")\\\n",
        "  .getOrCreate()\n",
        "\n",
        "sc = spark.sparkContext\n",
        "sqlContext = SQLContext(sc)"
      ],
      "metadata": {
        "id": "NUJTrjEEY-km",
        "colab": {
          "base_uri": "https://localhost:8080/"
        },
        "outputId": "7cf81227-262a-4de4-d24f-4152f24749fa"
      },
      "execution_count": 9,
      "outputs": [
        {
          "output_type": "stream",
          "name": "stderr",
          "text": [
            "/usr/local/lib/python3.10/dist-packages/pyspark/sql/context.py:113: FutureWarning: Deprecated in 3.0.0. Use SparkSession.builder.getOrCreate() instead.\n",
            "  warnings.warn(\n"
          ]
        }
      ]
    },
    {
      "cell_type": "code",
      "source": [
        "products = spark.read.csv('products.csv', header=True, inferSchema=True)\n",
        "orders = spark.read.csv('order_products__train.csv', header=True, inferSchema=True)"
      ],
      "metadata": {
        "id": "Z9k0c_7gZDoh"
      },
      "execution_count": 10,
      "outputs": []
    },
    {
      "cell_type": "code",
      "source": [
        "products.printSchema()"
      ],
      "metadata": {
        "colab": {
          "base_uri": "https://localhost:8080/"
        },
        "id": "hxLUsCGonVI2",
        "outputId": "6a023ddd-2d10-4b2b-c94f-5bfae40b6890"
      },
      "execution_count": 11,
      "outputs": [
        {
          "output_type": "stream",
          "name": "stdout",
          "text": [
            "root\n",
            " |-- product_id: integer (nullable = true)\n",
            " |-- product_name: string (nullable = true)\n",
            " |-- aisle_id: string (nullable = true)\n",
            " |-- department_id: string (nullable = true)\n",
            "\n"
          ]
        }
      ]
    },
    {
      "cell_type": "code",
      "source": [
        "orders.printSchema()"
      ],
      "metadata": {
        "colab": {
          "base_uri": "https://localhost:8080/"
        },
        "id": "DHAan0FLnXzw",
        "outputId": "943bb113-ba81-4c03-f5b3-9ff37a2b7950"
      },
      "execution_count": 12,
      "outputs": [
        {
          "output_type": "stream",
          "name": "stdout",
          "text": [
            "root\n",
            " |-- order_id: integer (nullable = true)\n",
            " |-- product_id: integer (nullable = true)\n",
            " |-- add_to_cart_order: integer (nullable = true)\n",
            " |-- reordered: integer (nullable = true)\n",
            "\n"
          ]
        }
      ]
    },
    {
      "cell_type": "markdown",
      "source": [
        "* add_to_cart_order: order in which each product was added to cart\n",
        "* reordered: 1 if this product has been ordered by this user in the past, 0 otherwise"
      ],
      "metadata": {
        "id": "UhcCptoUnxYK"
      }
    },
    {
      "cell_type": "code",
      "source": [
        "products.show(n=5)"
      ],
      "metadata": {
        "colab": {
          "base_uri": "https://localhost:8080/"
        },
        "id": "ov_Ahijwqg0T",
        "outputId": "1d170550-7f5f-4c92-b00d-effa8d0d8960"
      },
      "execution_count": 13,
      "outputs": [
        {
          "output_type": "stream",
          "name": "stdout",
          "text": [
            "+----------+--------------------+--------+-------------+\n",
            "|product_id|        product_name|aisle_id|department_id|\n",
            "+----------+--------------------+--------+-------------+\n",
            "|         1|Chocolate Sandwic...|      61|           19|\n",
            "|         2|    All-Seasons Salt|     104|           13|\n",
            "|         3|Robust Golden Uns...|      94|            7|\n",
            "|         4|Smart Ones Classi...|      38|            1|\n",
            "|         5|Green Chile Anyti...|       5|           13|\n",
            "+----------+--------------------+--------+-------------+\n",
            "only showing top 5 rows\n",
            "\n"
          ]
        }
      ]
    },
    {
      "cell_type": "code",
      "source": [
        "orders.show(n=5)"
      ],
      "metadata": {
        "colab": {
          "base_uri": "https://localhost:8080/"
        },
        "id": "HHT8CvlPqbkL",
        "outputId": "3630a2f5-6cd5-40fc-cc9c-40c9bb900382"
      },
      "execution_count": 14,
      "outputs": [
        {
          "output_type": "stream",
          "name": "stdout",
          "text": [
            "+--------+----------+-----------------+---------+\n",
            "|order_id|product_id|add_to_cart_order|reordered|\n",
            "+--------+----------+-----------------+---------+\n",
            "|       1|     49302|                1|        1|\n",
            "|       1|     11109|                2|        1|\n",
            "|       1|     10246|                3|        0|\n",
            "|       1|     49683|                4|        0|\n",
            "|       1|     43633|                5|        1|\n",
            "+--------+----------+-----------------+---------+\n",
            "only showing top 5 rows\n",
            "\n"
          ]
        }
      ]
    },
    {
      "cell_type": "markdown",
      "source": [
        "# Part 1: Solve the following questions using SQL DataFrame APIs."
      ],
      "metadata": {
        "id": "vOwCAc15GOeD"
      }
    },
    {
      "cell_type": "markdown",
      "source": [
        "## Question 1: Find out how many products?"
      ],
      "metadata": {
        "id": "90BjajTjoM8V"
      }
    },
    {
      "cell_type": "code",
      "source": [
        "# Your code here:\n",
        "# hint: count()\n",
        "# https://spark.apache.org/docs/latest/api/python/reference/pyspark.sql/api/pyspark.sql.GroupedData.count.html\n",
        "\n",
        "productCount = products.count()\n",
        "print(f'Total number of products - {productCount}')"
      ],
      "metadata": {
        "colab": {
          "base_uri": "https://localhost:8080/"
        },
        "id": "_42sqpjWn40P",
        "outputId": "9e4d1bd7-eb64-4690-ce59-6fab3382bfbf"
      },
      "execution_count": 17,
      "outputs": [
        {
          "output_type": "stream",
          "name": "stdout",
          "text": [
            "Total number of products - 49688\n"
          ]
        }
      ]
    },
    {
      "cell_type": "markdown",
      "source": [
        "## Question 2: Compute how many items in each order"
      ],
      "metadata": {
        "id": "7iusthuqoZ6M"
      }
    },
    {
      "cell_type": "code",
      "source": [
        "# Your code here:\n",
        "# Hint: groupBy()\n",
        "# https://spark.apache.org/docs/latest/api/python/reference/pyspark.sql/api/pyspark.sql.DataFrame.groupBy.html\n",
        "\n",
        "itemsPerOrder = orders.groupBy('order_id').count()\n",
        "itemsPerOrder.show(5)"
      ],
      "metadata": {
        "colab": {
          "base_uri": "https://localhost:8080/"
        },
        "id": "2BOot_S-pX9w",
        "outputId": "b7f21560-c6ab-45d1-fb2e-2b934242790c"
      },
      "execution_count": 18,
      "outputs": [
        {
          "output_type": "stream",
          "name": "stdout",
          "text": [
            "+--------+-----+\n",
            "|order_id|count|\n",
            "+--------+-----+\n",
            "|    1342|    8|\n",
            "|    1591|   31|\n",
            "|    4519|    1|\n",
            "|    4935|    1|\n",
            "|    6357|    9|\n",
            "+--------+-----+\n",
            "only showing top 5 rows\n",
            "\n"
          ]
        }
      ]
    },
    {
      "cell_type": "markdown",
      "source": [
        "## Question 3: Compute how many orders was made for each product."
      ],
      "metadata": {
        "id": "am2ICXRXp3wh"
      }
    },
    {
      "cell_type": "code",
      "source": [
        "# Your code here:\n",
        "# Hints: groupby(), count()\n",
        "\n",
        "ordersPerProduct = orders.groupBy('product_id').count()\n",
        "ordersPerProduct = ordersPerProduct.withColumnRenamed('count', 'order_count')\n",
        "ordersPerProduct.show(5)"
      ],
      "metadata": {
        "colab": {
          "base_uri": "https://localhost:8080/"
        },
        "id": "0bNKFwu7qCym",
        "outputId": "c5f6e9b0-6782-4dc8-c3d5-097b8274505e"
      },
      "execution_count": 19,
      "outputs": [
        {
          "output_type": "stream",
          "name": "stdout",
          "text": [
            "+----------+-----------+\n",
            "|product_id|order_count|\n",
            "+----------+-----------+\n",
            "|     25591|         25|\n",
            "|      7754|          9|\n",
            "|     47501|         11|\n",
            "|     37307|        122|\n",
            "|      4818|         19|\n",
            "+----------+-----------+\n",
            "only showing top 5 rows\n",
            "\n"
          ]
        }
      ]
    },
    {
      "cell_type": "markdown",
      "source": [
        "## Question 4: Show the product_id of the top five most popular products."
      ],
      "metadata": {
        "id": "S_jAUZ1pD8b9"
      }
    },
    {
      "cell_type": "code",
      "source": [
        "# Your code here:\n",
        "# Hints: groupby(), count(), orderBy()\n",
        "# https://spark.apache.org/docs/latest/api/python/reference/pyspark.sql/api/pyspark.sql.DataFrame.groupBy.html\n",
        "\n",
        "ordersPerProduct = orders.groupBy('product_id').count()\n",
        "ordersPerProduct = ordersPerProduct.withColumnRenamed('count', 'order_count')\n",
        "topFiveProducts = ordersPerProduct.orderBy(desc('order_count')).limit(5)\n",
        "topFiveProducts.show()"
      ],
      "metadata": {
        "colab": {
          "base_uri": "https://localhost:8080/"
        },
        "id": "NoQ7_TaCD5rD",
        "outputId": "f21ca2eb-2328-46d1-a0b8-6a22830f041d"
      },
      "execution_count": 20,
      "outputs": [
        {
          "output_type": "stream",
          "name": "stdout",
          "text": [
            "+----------+-----------+\n",
            "|product_id|order_count|\n",
            "+----------+-----------+\n",
            "|     24852|      18726|\n",
            "|     13176|      15480|\n",
            "|     21137|      10894|\n",
            "|     21903|       9784|\n",
            "|     47626|       8135|\n",
            "+----------+-----------+\n",
            "\n"
          ]
        }
      ]
    },
    {
      "cell_type": "markdown",
      "source": [
        "## Question 5: Build a new dataframe that has two columns: order_id, product_name"
      ],
      "metadata": {
        "id": "it43nZaDazt6"
      }
    },
    {
      "cell_type": "code",
      "source": [
        "# Your code here:\n",
        "# Hint: join\n",
        "# https://spark.apache.org/docs/latest/api/python/reference/pyspark.sql/api/pyspark.sql.DataFrame.join.html\n",
        "\n",
        "orderProductNames = orders.join(products, on='product_id')\n",
        "orderProductNames = orderProductNames.select('order_id', 'product_name')\n",
        "orderProductNames.show(5)"
      ],
      "metadata": {
        "colab": {
          "base_uri": "https://localhost:8080/"
        },
        "id": "bbSZPaFwYKTw",
        "outputId": "c229857d-cb78-4cb2-b0b1-b62d34909121"
      },
      "execution_count": 21,
      "outputs": [
        {
          "output_type": "stream",
          "name": "stdout",
          "text": [
            "+--------+--------------------+\n",
            "|order_id|        product_name|\n",
            "+--------+--------------------+\n",
            "|       1|    Bulgarian Yogurt|\n",
            "|       1|Organic 4% Milk F...|\n",
            "|       1|Organic Celery He...|\n",
            "|       1|      Cucumber Kirby|\n",
            "|       1|Lightly Smoked Sa...|\n",
            "+--------+--------------------+\n",
            "only showing top 5 rows\n",
            "\n"
          ]
        }
      ]
    },
    {
      "cell_type": "markdown",
      "source": [
        "## Question 6: Show the product name of the top five most popular products."
      ],
      "metadata": {
        "id": "sR4dfwCvcJ-b"
      }
    },
    {
      "cell_type": "code",
      "source": [
        "# Your code here:\n",
        "\n",
        "ordersPerProduct = orders.groupBy('product_id').count()\n",
        "ordersPerProduct = ordersPerProduct.withColumnRenamed('count', 'order_count')\n",
        "topFiveProducts = ordersPerProduct.orderBy(desc('order_count')).limit(5)\n",
        "topFiveProductNames = topFiveProducts.join(products, on='product_id')\n",
        "topFiveProductNames = topFiveProductNames.select('product_name', 'order_count')\n",
        "topFiveProductNames.show()"
      ],
      "metadata": {
        "colab": {
          "base_uri": "https://localhost:8080/"
        },
        "id": "zlESNEPhcQFY",
        "outputId": "940e55f3-5c80-483c-ec44-853bc93cc781"
      },
      "execution_count": 22,
      "outputs": [
        {
          "output_type": "stream",
          "name": "stdout",
          "text": [
            "+--------------------+-----------+\n",
            "|        product_name|order_count|\n",
            "+--------------------+-----------+\n",
            "|Bag of Organic Ba...|      15480|\n",
            "|Organic Strawberries|      10894|\n",
            "|Organic Baby Spinach|       9784|\n",
            "|              Banana|      18726|\n",
            "|         Large Lemon|       8135|\n",
            "+--------------------+-----------+\n",
            "\n"
          ]
        }
      ]
    },
    {
      "cell_type": "markdown",
      "source": [
        "# Part 2: Running SQL Queries Programmatically\n"
      ],
      "metadata": {
        "id": "gadkstzYGZo1"
      }
    },
    {
      "cell_type": "code",
      "source": [
        "# Create Temporary Tables to work using sql like commands\n",
        "orders.createOrReplaceTempView(\"orders\")\n",
        "products.createOrReplaceTempView(\"products\")"
      ],
      "metadata": {
        "id": "MdS03YmwGi7J"
      },
      "execution_count": 23,
      "outputs": []
    },
    {
      "cell_type": "markdown",
      "source": [
        "SQL can be run over DataFrames that have been registered as a table. For example:"
      ],
      "metadata": {
        "id": "yDNT4TKlHkYn"
      }
    },
    {
      "cell_type": "code",
      "source": [
        "results = spark.sql(\"SELECT product_id FROM orders\")\n",
        "results.show(5)"
      ],
      "metadata": {
        "colab": {
          "base_uri": "https://localhost:8080/"
        },
        "id": "ahJd6Tt3G5W3",
        "outputId": "47b0ec80-17e2-4e4e-9ea2-09cd23677f7f"
      },
      "execution_count": 24,
      "outputs": [
        {
          "output_type": "stream",
          "name": "stdout",
          "text": [
            "+----------+\n",
            "|product_id|\n",
            "+----------+\n",
            "|     49302|\n",
            "|     11109|\n",
            "|     10246|\n",
            "|     49683|\n",
            "|     43633|\n",
            "+----------+\n",
            "only showing top 5 rows\n",
            "\n"
          ]
        }
      ]
    },
    {
      "cell_type": "code",
      "source": [
        "results = spark.sql(\"SELECT order_id,COUNT(product_id) AS total_items FROM orders GROUP BY order_id\")\n",
        "results_pd = results.toPandas()\n",
        "results_pd.head()"
      ],
      "metadata": {
        "colab": {
          "base_uri": "https://localhost:8080/",
          "height": 204
        },
        "id": "u0gQ2ImRJcNR",
        "outputId": "24b6a738-b22e-4b69-87c0-3f0ceda1d695"
      },
      "execution_count": 25,
      "outputs": [
        {
          "output_type": "execute_result",
          "data": {
            "text/plain": [
              "   order_id  total_items\n",
              "0      1342            8\n",
              "1      1591           31\n",
              "2      4519            1\n",
              "3      4935            1\n",
              "4      6357            9"
            ],
            "text/html": [
              "\n",
              "  <div id=\"df-377a0162-b948-4d75-9198-cc3b60f4d6a1\" class=\"colab-df-container\">\n",
              "    <div>\n",
              "<style scoped>\n",
              "    .dataframe tbody tr th:only-of-type {\n",
              "        vertical-align: middle;\n",
              "    }\n",
              "\n",
              "    .dataframe tbody tr th {\n",
              "        vertical-align: top;\n",
              "    }\n",
              "\n",
              "    .dataframe thead th {\n",
              "        text-align: right;\n",
              "    }\n",
              "</style>\n",
              "<table border=\"1\" class=\"dataframe\">\n",
              "  <thead>\n",
              "    <tr style=\"text-align: right;\">\n",
              "      <th></th>\n",
              "      <th>order_id</th>\n",
              "      <th>total_items</th>\n",
              "    </tr>\n",
              "  </thead>\n",
              "  <tbody>\n",
              "    <tr>\n",
              "      <th>0</th>\n",
              "      <td>1342</td>\n",
              "      <td>8</td>\n",
              "    </tr>\n",
              "    <tr>\n",
              "      <th>1</th>\n",
              "      <td>1591</td>\n",
              "      <td>31</td>\n",
              "    </tr>\n",
              "    <tr>\n",
              "      <th>2</th>\n",
              "      <td>4519</td>\n",
              "      <td>1</td>\n",
              "    </tr>\n",
              "    <tr>\n",
              "      <th>3</th>\n",
              "      <td>4935</td>\n",
              "      <td>1</td>\n",
              "    </tr>\n",
              "    <tr>\n",
              "      <th>4</th>\n",
              "      <td>6357</td>\n",
              "      <td>9</td>\n",
              "    </tr>\n",
              "  </tbody>\n",
              "</table>\n",
              "</div>\n",
              "    <div class=\"colab-df-buttons\">\n",
              "\n",
              "  <div class=\"colab-df-container\">\n",
              "    <button class=\"colab-df-convert\" onclick=\"convertToInteractive('df-377a0162-b948-4d75-9198-cc3b60f4d6a1')\"\n",
              "            title=\"Convert this dataframe to an interactive table.\"\n",
              "            style=\"display:none;\">\n",
              "\n",
              "  <svg xmlns=\"http://www.w3.org/2000/svg\" height=\"24px\" viewBox=\"0 -960 960 960\">\n",
              "    <path d=\"M120-120v-720h720v720H120Zm60-500h600v-160H180v160Zm220 220h160v-160H400v160Zm0 220h160v-160H400v160ZM180-400h160v-160H180v160Zm440 0h160v-160H620v160ZM180-180h160v-160H180v160Zm440 0h160v-160H620v160Z\"/>\n",
              "  </svg>\n",
              "    </button>\n",
              "\n",
              "  <style>\n",
              "    .colab-df-container {\n",
              "      display:flex;\n",
              "      gap: 12px;\n",
              "    }\n",
              "\n",
              "    .colab-df-convert {\n",
              "      background-color: #E8F0FE;\n",
              "      border: none;\n",
              "      border-radius: 50%;\n",
              "      cursor: pointer;\n",
              "      display: none;\n",
              "      fill: #1967D2;\n",
              "      height: 32px;\n",
              "      padding: 0 0 0 0;\n",
              "      width: 32px;\n",
              "    }\n",
              "\n",
              "    .colab-df-convert:hover {\n",
              "      background-color: #E2EBFA;\n",
              "      box-shadow: 0px 1px 2px rgba(60, 64, 67, 0.3), 0px 1px 3px 1px rgba(60, 64, 67, 0.15);\n",
              "      fill: #174EA6;\n",
              "    }\n",
              "\n",
              "    .colab-df-buttons div {\n",
              "      margin-bottom: 4px;\n",
              "    }\n",
              "\n",
              "    [theme=dark] .colab-df-convert {\n",
              "      background-color: #3B4455;\n",
              "      fill: #D2E3FC;\n",
              "    }\n",
              "\n",
              "    [theme=dark] .colab-df-convert:hover {\n",
              "      background-color: #434B5C;\n",
              "      box-shadow: 0px 1px 3px 1px rgba(0, 0, 0, 0.15);\n",
              "      filter: drop-shadow(0px 1px 2px rgba(0, 0, 0, 0.3));\n",
              "      fill: #FFFFFF;\n",
              "    }\n",
              "  </style>\n",
              "\n",
              "    <script>\n",
              "      const buttonEl =\n",
              "        document.querySelector('#df-377a0162-b948-4d75-9198-cc3b60f4d6a1 button.colab-df-convert');\n",
              "      buttonEl.style.display =\n",
              "        google.colab.kernel.accessAllowed ? 'block' : 'none';\n",
              "\n",
              "      async function convertToInteractive(key) {\n",
              "        const element = document.querySelector('#df-377a0162-b948-4d75-9198-cc3b60f4d6a1');\n",
              "        const dataTable =\n",
              "          await google.colab.kernel.invokeFunction('convertToInteractive',\n",
              "                                                    [key], {});\n",
              "        if (!dataTable) return;\n",
              "\n",
              "        const docLinkHtml = 'Like what you see? Visit the ' +\n",
              "          '<a target=\"_blank\" href=https://colab.research.google.com/notebooks/data_table.ipynb>data table notebook</a>'\n",
              "          + ' to learn more about interactive tables.';\n",
              "        element.innerHTML = '';\n",
              "        dataTable['output_type'] = 'display_data';\n",
              "        await google.colab.output.renderOutput(dataTable, element);\n",
              "        const docLink = document.createElement('div');\n",
              "        docLink.innerHTML = docLinkHtml;\n",
              "        element.appendChild(docLink);\n",
              "      }\n",
              "    </script>\n",
              "  </div>\n",
              "\n",
              "\n",
              "<div id=\"df-aba79da4-b8a1-4d90-8857-2bec1d9441cb\">\n",
              "  <button class=\"colab-df-quickchart\" onclick=\"quickchart('df-aba79da4-b8a1-4d90-8857-2bec1d9441cb')\"\n",
              "            title=\"Suggest charts\"\n",
              "            style=\"display:none;\">\n",
              "\n",
              "<svg xmlns=\"http://www.w3.org/2000/svg\" height=\"24px\"viewBox=\"0 0 24 24\"\n",
              "     width=\"24px\">\n",
              "    <g>\n",
              "        <path d=\"M19 3H5c-1.1 0-2 .9-2 2v14c0 1.1.9 2 2 2h14c1.1 0 2-.9 2-2V5c0-1.1-.9-2-2-2zM9 17H7v-7h2v7zm4 0h-2V7h2v10zm4 0h-2v-4h2v4z\"/>\n",
              "    </g>\n",
              "</svg>\n",
              "  </button>\n",
              "\n",
              "<style>\n",
              "  .colab-df-quickchart {\n",
              "      --bg-color: #E8F0FE;\n",
              "      --fill-color: #1967D2;\n",
              "      --hover-bg-color: #E2EBFA;\n",
              "      --hover-fill-color: #174EA6;\n",
              "      --disabled-fill-color: #AAA;\n",
              "      --disabled-bg-color: #DDD;\n",
              "  }\n",
              "\n",
              "  [theme=dark] .colab-df-quickchart {\n",
              "      --bg-color: #3B4455;\n",
              "      --fill-color: #D2E3FC;\n",
              "      --hover-bg-color: #434B5C;\n",
              "      --hover-fill-color: #FFFFFF;\n",
              "      --disabled-bg-color: #3B4455;\n",
              "      --disabled-fill-color: #666;\n",
              "  }\n",
              "\n",
              "  .colab-df-quickchart {\n",
              "    background-color: var(--bg-color);\n",
              "    border: none;\n",
              "    border-radius: 50%;\n",
              "    cursor: pointer;\n",
              "    display: none;\n",
              "    fill: var(--fill-color);\n",
              "    height: 32px;\n",
              "    padding: 0;\n",
              "    width: 32px;\n",
              "  }\n",
              "\n",
              "  .colab-df-quickchart:hover {\n",
              "    background-color: var(--hover-bg-color);\n",
              "    box-shadow: 0 1px 2px rgba(60, 64, 67, 0.3), 0 1px 3px 1px rgba(60, 64, 67, 0.15);\n",
              "    fill: var(--button-hover-fill-color);\n",
              "  }\n",
              "\n",
              "  .colab-df-quickchart-complete:disabled,\n",
              "  .colab-df-quickchart-complete:disabled:hover {\n",
              "    background-color: var(--disabled-bg-color);\n",
              "    fill: var(--disabled-fill-color);\n",
              "    box-shadow: none;\n",
              "  }\n",
              "\n",
              "  .colab-df-spinner {\n",
              "    border: 2px solid var(--fill-color);\n",
              "    border-color: transparent;\n",
              "    border-bottom-color: var(--fill-color);\n",
              "    animation:\n",
              "      spin 1s steps(1) infinite;\n",
              "  }\n",
              "\n",
              "  @keyframes spin {\n",
              "    0% {\n",
              "      border-color: transparent;\n",
              "      border-bottom-color: var(--fill-color);\n",
              "      border-left-color: var(--fill-color);\n",
              "    }\n",
              "    20% {\n",
              "      border-color: transparent;\n",
              "      border-left-color: var(--fill-color);\n",
              "      border-top-color: var(--fill-color);\n",
              "    }\n",
              "    30% {\n",
              "      border-color: transparent;\n",
              "      border-left-color: var(--fill-color);\n",
              "      border-top-color: var(--fill-color);\n",
              "      border-right-color: var(--fill-color);\n",
              "    }\n",
              "    40% {\n",
              "      border-color: transparent;\n",
              "      border-right-color: var(--fill-color);\n",
              "      border-top-color: var(--fill-color);\n",
              "    }\n",
              "    60% {\n",
              "      border-color: transparent;\n",
              "      border-right-color: var(--fill-color);\n",
              "    }\n",
              "    80% {\n",
              "      border-color: transparent;\n",
              "      border-right-color: var(--fill-color);\n",
              "      border-bottom-color: var(--fill-color);\n",
              "    }\n",
              "    90% {\n",
              "      border-color: transparent;\n",
              "      border-bottom-color: var(--fill-color);\n",
              "    }\n",
              "  }\n",
              "</style>\n",
              "\n",
              "  <script>\n",
              "    async function quickchart(key) {\n",
              "      const quickchartButtonEl =\n",
              "        document.querySelector('#' + key + ' button');\n",
              "      quickchartButtonEl.disabled = true;  // To prevent multiple clicks.\n",
              "      quickchartButtonEl.classList.add('colab-df-spinner');\n",
              "      try {\n",
              "        const charts = await google.colab.kernel.invokeFunction(\n",
              "            'suggestCharts', [key], {});\n",
              "      } catch (error) {\n",
              "        console.error('Error during call to suggestCharts:', error);\n",
              "      }\n",
              "      quickchartButtonEl.classList.remove('colab-df-spinner');\n",
              "      quickchartButtonEl.classList.add('colab-df-quickchart-complete');\n",
              "    }\n",
              "    (() => {\n",
              "      let quickchartButtonEl =\n",
              "        document.querySelector('#df-aba79da4-b8a1-4d90-8857-2bec1d9441cb button');\n",
              "      quickchartButtonEl.style.display =\n",
              "        google.colab.kernel.accessAllowed ? 'block' : 'none';\n",
              "    })();\n",
              "  </script>\n",
              "</div>\n",
              "\n",
              "    </div>\n",
              "  </div>\n"
            ],
            "application/vnd.google.colaboratory.intrinsic+json": {
              "type": "dataframe",
              "variable_name": "results_pd"
            }
          },
          "metadata": {},
          "execution_count": 25
        }
      ]
    },
    {
      "cell_type": "markdown",
      "source": [
        "Plot the histogram of the total items of all orders."
      ],
      "metadata": {
        "id": "jMSbigR2K7dl"
      }
    },
    {
      "cell_type": "code",
      "source": [
        "fig = plt.figure(figsize=(10, 6))\n",
        "plt.hist(results_pd[\"total_items\"])\n",
        "plt.show()"
      ],
      "metadata": {
        "colab": {
          "base_uri": "https://localhost:8080/",
          "height": 522
        },
        "id": "3DLO1mddKVaQ",
        "outputId": "6c460ef6-8e73-419e-f849-b2abd87beefe"
      },
      "execution_count": 26,
      "outputs": [
        {
          "output_type": "display_data",
          "data": {
            "text/plain": [
              "<Figure size 1000x600 with 1 Axes>"
            ],
            "image/png": "[encoded data removed]"
          },
          "metadata": {}
        }
      ]
    },
    {
      "cell_type": "markdown",
      "source": [
        "## Question 7: Find out the names of top 5 most popular products"
      ],
      "metadata": {
        "id": "kDeUi8j8PpLd"
      }
    },
    {
      "cell_type": "markdown",
      "source": [
        "Hints:\n",
        "1.   First, join the table \"orders\" and the table \"products\" into a single table. Here is the tutorial of [SQL JOIN](https://www.w3schools.com/sql/sql_join.asp).\n",
        "2.   Then, run [SQL COUNT](https://www.w3resource.com/sql/aggregate-functions/count-with-group-by.php) on the new table. You should use both group by and order by in descending.\n",
        "3. Then you can run \".show(5)\" to display to the top five rows.\n",
        "\n"
      ],
      "metadata": {
        "id": "Ak_JyBSuLrqR"
      }
    },
    {
      "cell_type": "code",
      "source": [
        "# Your code here:\n",
        "\n",
        "orders.createOrReplaceTempView(\"orders\")\n",
        "products.createOrReplaceTempView(\"products\")\n",
        "\n",
        "top_products = spark.sql(\"\"\"\n",
        "    SELECT p.product_name, COUNT(o.product_id) AS orders_count\n",
        "    FROM orders o\n",
        "    JOIN products p ON o.product_id = p.product_id\n",
        "    GROUP BY p.product_name\n",
        "    ORDER BY orders_count DESC\n",
        "    LIMIT 5\n",
        "\"\"\")\n",
        "\n",
        "top_products.show()"
      ],
      "metadata": {
        "colab": {
          "base_uri": "https://localhost:8080/"
        },
        "id": "nEfB484JOi7H",
        "outputId": "0ac96895-ba1c-4455-adf0-c56cd5295109"
      },
      "execution_count": 27,
      "outputs": [
        {
          "output_type": "stream",
          "name": "stdout",
          "text": [
            "+--------------------+------------+\n",
            "|        product_name|orders_count|\n",
            "+--------------------+------------+\n",
            "|              Banana|       18726|\n",
            "|Bag of Organic Ba...|       15480|\n",
            "|Organic Strawberries|       10894|\n",
            "|Organic Baby Spinach|        9784|\n",
            "|         Large Lemon|        8135|\n",
            "+--------------------+------------+\n",
            "\n"
          ]
        }
      ]
    }
  ]
}